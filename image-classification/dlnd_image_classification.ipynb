{
 "cells": [
  {
   "cell_type": "markdown",
   "metadata": {
    "collapsed": true,
    "deletable": true,
    "editable": true
   },
   "source": [
    "# Image Classification\n",
    "In this project, you'll classify images from the [CIFAR-10 dataset](https://www.cs.toronto.edu/~kriz/cifar.html).  The dataset consists of airplanes, dogs, cats, and other objects. You'll preprocess the images, then train a convolutional neural network on all the samples. The images need to be normalized and the labels need to be one-hot encoded.  You'll get to apply what you learned and build a convolutional, max pooling, dropout, and fully connected layers.  At the end, you'll get to see your neural network's predictions on the sample images.\n",
    "## Get the Data\n",
    "Run the following cell to download the [CIFAR-10 dataset for python](https://www.cs.toronto.edu/~kriz/cifar-10-python.tar.gz)."
   ]
  },
  {
   "cell_type": "code",
   "execution_count": 80,
   "metadata": {
    "collapsed": false,
    "deletable": true,
    "editable": true
   },
   "outputs": [
    {
     "name": "stdout",
     "output_type": "stream",
     "text": [
      "All files found!\n"
     ]
    }
   ],
   "source": [
    "\"\"\"\n",
    "DON'T MODIFY ANYTHING IN THIS CELL THAT IS BELOW THIS LINE\n",
    "\"\"\"\n",
    "from urllib.request import urlretrieve\n",
    "from os.path import isfile, isdir\n",
    "from tqdm import tqdm\n",
    "import problem_unittests as tests\n",
    "import tarfile\n",
    "\n",
    "cifar10_dataset_folder_path = 'cifar-10-batches-py'\n",
    "\n",
    "# Use Floyd's cifar-10 dataset if present\n",
    "floyd_cifar10_location = '/input/cifar-10/python.tar.gz'\n",
    "if isfile(floyd_cifar10_location):\n",
    "    tar_gz_path = floyd_cifar10_location\n",
    "else:\n",
    "    tar_gz_path = 'cifar-10-python.tar.gz'\n",
    "\n",
    "class DLProgress(tqdm):\n",
    "    last_block = 0\n",
    "\n",
    "    def hook(self, block_num=1, block_size=1, total_size=None):\n",
    "        self.total = total_size\n",
    "        self.update((block_num - self.last_block) * block_size)\n",
    "        self.last_block = block_num\n",
    "\n",
    "if not isfile(tar_gz_path):\n",
    "    with DLProgress(unit='B', unit_scale=True, miniters=1, desc='CIFAR-10 Dataset') as pbar:\n",
    "        urlretrieve(\n",
    "            'https://www.cs.toronto.edu/~kriz/cifar-10-python.tar.gz',\n",
    "            tar_gz_path,\n",
    "            pbar.hook)\n",
    "\n",
    "if not isdir(cifar10_dataset_folder_path):\n",
    "    with tarfile.open(tar_gz_path) as tar:\n",
    "        tar.extractall()\n",
    "        tar.close()\n",
    "\n",
    "\n",
    "tests.test_folder_path(cifar10_dataset_folder_path)"
   ]
  },
  {
   "cell_type": "markdown",
   "metadata": {
    "deletable": true,
    "editable": true
   },
   "source": [
    "## Explore the Data\n",
    "The dataset is broken into batches to prevent your machine from running out of memory.  The CIFAR-10 dataset consists of 5 batches, named `data_batch_1`, `data_batch_2`, etc.. Each batch contains the labels and images that are one of the following:\n",
    "* airplane\n",
    "* automobile\n",
    "* bird\n",
    "* cat\n",
    "* deer\n",
    "* dog\n",
    "* frog\n",
    "* horse\n",
    "* ship\n",
    "* truck\n",
    "\n",
    "Understanding a dataset is part of making predictions on the data.  Play around with the code cell below by changing the `batch_id` and `sample_id`. The `batch_id` is the id for a batch (1-5). The `sample_id` is the id for a image and label pair in the batch.\n",
    "\n",
    "Ask yourself \"What are all possible labels?\", \"What is the range of values for the image data?\", \"Are the labels in order or random?\".  Answers to questions like these will help you preprocess the data and end up with better predictions."
   ]
  },
  {
   "cell_type": "code",
   "execution_count": 81,
   "metadata": {
    "collapsed": false,
    "deletable": true,
    "editable": true
   },
   "outputs": [
    {
     "name": "stdout",
     "output_type": "stream",
     "text": [
      "\n",
      "Stats of batch 1:\n",
      "Samples: 10000\n",
      "Label Counts: {0: 1005, 1: 974, 2: 1032, 3: 1016, 4: 999, 5: 937, 6: 1030, 7: 1001, 8: 1025, 9: 981}\n",
      "First 20 Labels: [6, 9, 9, 4, 1, 1, 2, 7, 8, 3, 4, 7, 7, 2, 9, 9, 9, 3, 2, 6]\n",
      "\n",
      "Example of Image 5:\n",
      "Image - Min Value: 0 Max Value: 252\n",
      "Image - Shape: (32, 32, 3)\n",
      "Label - Label Id: 1 Name: automobile\n"
     ]
    },
    {
     "data": {
      "image/png": "[encoded data removed]",
      "text/plain": [
       "<matplotlib.figure.Figure at 0x7f11153dee80>"
      ]
     },
     "metadata": {
      "image/png": {
       "height": 250,
       "width": 253
      }
     },
     "output_type": "display_data"
    }
   ],
   "source": [
    "%matplotlib inline\n",
    "%config InlineBackend.figure_format = 'retina'\n",
    "\n",
    "import helper\n",
    "import numpy as np\n",
    "\n",
    "# Explore the dataset\n",
    "batch_id = 1\n",
    "sample_id = 5\n",
    "helper.display_stats(cifar10_dataset_folder_path, batch_id, sample_id)"
   ]
  },
  {
   "cell_type": "markdown",
   "metadata": {
    "deletable": true,
    "editable": true
   },
   "source": [
    "## Implement Preprocess Functions\n",
    "### Normalize\n",
    "In the cell below, implement the `normalize` function to take in image data, `x`, and return it as a normalized Numpy array. The values should be in the range of 0 to 1, inclusive.  The return object should be the same shape as `x`."
   ]
  },
  {
   "cell_type": "code",
   "execution_count": 82,
   "metadata": {
    "collapsed": false,
    "deletable": true,
    "editable": true
   },
   "outputs": [
    {
     "name": "stdout",
     "output_type": "stream",
     "text": [
      "Tests Passed\n"
     ]
    }
   ],
   "source": [
    "def normalize(x):\n",
    "    \"\"\"\n",
    "    Normalize a list of sample image data in the range of 0 to 1\n",
    "    : x: List of image data.  The image shape is (32, 32, 3)\n",
    "    : return: Numpy array of normalize data\n",
    "    \"\"\"\n",
    "    # TODO: Implement Function\n",
    "    _max = x.max()\n",
    "    _min = x.min()\n",
    "    return (x - _min) / (_max - _min)\n",
    "\n",
    "\n",
    "\"\"\"\n",
    "DON'T MODIFY ANYTHING IN THIS CELL THAT IS BELOW THIS LINE\n",
    "\"\"\"\n",
    "tests.test_normalize(normalize)"
   ]
  },
  {
   "cell_type": "markdown",
   "metadata": {
    "deletable": true,
    "editable": true
   },
   "source": [
    "### One-hot encode\n",
    "Just like the previous code cell, you'll be implementing a function for preprocessing.  This time, you'll implement the `one_hot_encode` function. The input, `x`, are a list of labels.  Implement the function to return the list of labels as One-Hot encoded Numpy array.  The possible values for labels are 0 to 9. The one-hot encoding function should return the same encoding for each value between each call to `one_hot_encode`.  Make sure to save the map of encodings outside the function.\n",
    "\n",
    "Hint: Don't reinvent the wheel."
   ]
  },
  {
   "cell_type": "code",
   "execution_count": 83,
   "metadata": {
    "collapsed": false,
    "deletable": true,
    "editable": true
   },
   "outputs": [
    {
     "name": "stdout",
     "output_type": "stream",
     "text": [
      "Tests Passed\n"
     ]
    }
   ],
   "source": [
    "def one_hot_encode(x):\n",
    "    \"\"\"\n",
    "    One hot encode a list of sample labels. Return a one-hot encoded vector for each label.\n",
    "    : x: List of sample Labels\n",
    "    : return: Numpy array of one-hot encoded labels\n",
    "    \"\"\"\n",
    "    # TODO: Implement Function\n",
    "    return np.eye(10, dtype=np.float32)[x]\n",
    "\n",
    "\n",
    "\"\"\"\n",
    "DON'T MODIFY ANYTHING IN THIS CELL THAT IS BELOW THIS LINE\n",
    "\"\"\"\n",
    "tests.test_one_hot_encode(one_hot_encode)"
   ]
  },
  {
   "cell_type": "markdown",
   "metadata": {
    "deletable": true,
    "editable": true
   },
   "source": [
    "### Randomize Data\n",
    "As you saw from exploring the data above, the order of the samples are randomized.  It doesn't hurt to randomize it again, but you don't need to for this dataset."
   ]
  },
  {
   "cell_type": "markdown",
   "metadata": {
    "deletable": true,
    "editable": true
   },
   "source": [
    "## Preprocess all the data and save it\n",
    "Running the code cell below will preprocess all the CIFAR-10 data and save it to file. The code below also uses 10% of the training data for validation."
   ]
  },
  {
   "cell_type": "code",
   "execution_count": 84,
   "metadata": {
    "collapsed": false,
    "deletable": true,
    "editable": true
   },
   "outputs": [],
   "source": [
    "\"\"\"\n",
    "DON'T MODIFY ANYTHING IN THIS CELL\n",
    "\"\"\"\n",
    "# Preprocess Training, Validation, and Testing Data\n",
    "helper.preprocess_and_save_data(cifar10_dataset_folder_path, normalize, one_hot_encode)"
   ]
  },
  {
   "cell_type": "markdown",
   "metadata": {
    "deletable": true,
    "editable": true
   },
   "source": [
    "# Check Point\n",
    "This is your first checkpoint.  If you ever decide to come back to this notebook or have to restart the notebook, you can start from here.  The preprocessed data has been saved to disk."
   ]
  },
  {
   "cell_type": "code",
   "execution_count": 85,
   "metadata": {
    "collapsed": true,
    "deletable": true,
    "editable": true
   },
   "outputs": [],
   "source": [
    "\"\"\"\n",
    "DON'T MODIFY ANYTHING IN THIS CELL\n",
    "\"\"\"\n",
    "import pickle\n",
    "import problem_unittests as tests\n",
    "import helper\n",
    "\n",
    "# Load the Preprocessed Validation data\n",
    "valid_features, valid_labels = pickle.load(open('preprocess_validation.p', mode='rb'))"
   ]
  },
  {
   "cell_type": "markdown",
   "metadata": {
    "deletable": true,
    "editable": true
   },
   "source": [
    "## Build the network\n",
    "For the neural network, you'll build each layer into a function.  Most of the code you've seen has been outside of functions. To test your code more thoroughly, we require that you put each layer in a function.  This allows us to give you better feedback and test for simple mistakes using our unittests before you submit your project.\n",
    "\n",
    ">**Note:** If you're finding it hard to dedicate enough time for this course each week, we've provided a small shortcut to this part of the project. In the next couple of problems, you'll have the option to use classes from the [TensorFlow Layers](https://www.tensorflow.org/api_docs/python/tf/layers) or [TensorFlow Layers (contrib)](https://www.tensorflow.org/api_guides/python/contrib.layers) packages to build each layer, except the layers you build in the \"Convolutional and Max Pooling Layer\" section.  TF Layers is similar to Keras's and TFLearn's abstraction to layers, so it's easy to pickup.\n",
    "\n",
    ">However, if you would like to get the most out of this course, try to solve all the problems _without_ using anything from the TF Layers packages. You **can** still use classes from other packages that happen to have the same name as ones you find in TF Layers! For example, instead of using the TF Layers version of the `conv2d` class, [tf.layers.conv2d](https://www.tensorflow.org/api_docs/python/tf/layers/conv2d), you would want to use the TF Neural Network version of `conv2d`, [tf.nn.conv2d](https://www.tensorflow.org/api_docs/python/tf/nn/conv2d). \n",
    "\n",
    "Let's begin!\n",
    "\n",
    "### Input\n",
    "The neural network needs to read the image data, one-hot encoded labels, and dropout keep probability. Implement the following functions\n",
    "* Implement `neural_net_image_input`\n",
    " * Return a [TF Placeholder](https://www.tensorflow.org/api_docs/python/tf/placeholder)\n",
    " * Set the shape using `image_shape` with batch size set to `None`.\n",
    " * Name the TensorFlow placeholder \"x\" using the TensorFlow `name` parameter in the [TF Placeholder](https://www.tensorflow.org/api_docs/python/tf/placeholder).\n",
    "* Implement `neural_net_label_input`\n",
    " * Return a [TF Placeholder](https://www.tensorflow.org/api_docs/python/tf/placeholder)\n",
    " * Set the shape using `n_classes` with batch size set to `None`.\n",
    " * Name the TensorFlow placeholder \"y\" using the TensorFlow `name` parameter in the [TF Placeholder](https://www.tensorflow.org/api_docs/python/tf/placeholder).\n",
    "* Implement `neural_net_keep_prob_input`\n",
    " * Return a [TF Placeholder](https://www.tensorflow.org/api_docs/python/tf/placeholder) for dropout keep probability.\n",
    " * Name the TensorFlow placeholder \"keep_prob\" using the TensorFlow `name` parameter in the [TF Placeholder](https://www.tensorflow.org/api_docs/python/tf/placeholder).\n",
    "\n",
    "These names will be used at the end of the project to load your saved model.\n",
    "\n",
    "Note: `None` for shapes in TensorFlow allow for a dynamic size."
   ]
  },
  {
   "cell_type": "code",
   "execution_count": 86,
   "metadata": {
    "collapsed": false,
    "deletable": true,
    "editable": true
   },
   "outputs": [
    {
     "name": "stdout",
     "output_type": "stream",
     "text": [
      "Image Input Tests Passed.\n",
      "Label Input Tests Passed.\n",
      "Keep Prob Tests Passed.\n"
     ]
    }
   ],
   "source": [
    "import tensorflow as tf\n",
    "\n",
    "def neural_net_image_input(image_shape):\n",
    "    \"\"\"\n",
    "    Return a Tensor for a bach of image input\n",
    "    : image_shape: Shape of the images\n",
    "    : return: Tensor for image input.\n",
    "    \"\"\"\n",
    "    # TODO: Implement Function\n",
    "    batch, w, h, d = None, image_shape[0], image_shape[1], image_shape[2]\n",
    "    placeholder = 'x'\n",
    "    return tf.placeholder(tf.float32, shape=[batch, w, h, d], name=placeholder)\n",
    "\n",
    "\n",
    "def neural_net_label_input(n_classes):\n",
    "    \"\"\"\n",
    "    Return a Tensor for a batch of label input\n",
    "    : n_classes: Number of classes\n",
    "    : return: Tensor for label input.\n",
    "    \"\"\"\n",
    "    # TODO: Implement Function\n",
    "    batch = None\n",
    "    placeholder = 'y'\n",
    "    return tf.placeholder(tf.float32, shape=[None, n_classes], name=placeholder)\n",
    "\n",
    "\n",
    "def neural_net_keep_prob_input():\n",
    "    \"\"\"\n",
    "    Return a Tensor for keep probability\n",
    "    : return: Tensor for keep probability.\n",
    "    \"\"\"\n",
    "    # TODO: Implement Function\n",
    "    placeholder = 'keep_prob'\n",
    "    return tf.placeholder(tf.float32, name=placeholder)\n",
    "\n",
    "\n",
    "\"\"\"\n",
    "DON'T MODIFY ANYTHING IN THIS CELL THAT IS BELOW THIS LINE\n",
    "\"\"\"\n",
    "tf.reset_default_graph()\n",
    "tests.test_nn_image_inputs(neural_net_image_input)\n",
    "tests.test_nn_label_inputs(neural_net_label_input)\n",
    "tests.test_nn_keep_prob_inputs(neural_net_keep_prob_input)"
   ]
  },
  {
   "cell_type": "markdown",
   "metadata": {
    "deletable": true,
    "editable": true
   },
   "source": [
    "### Convolution and Max Pooling Layer\n",
    "Convolution layers have a lot of success with images. For this code cell, you should implement the function `conv2d_maxpool` to apply convolution then max pooling:\n",
    "* Create the weight and bias using `conv_ksize`, `conv_num_outputs` and the shape of `x_tensor`.\n",
    "* Apply a convolution to `x_tensor` using weight and `conv_strides`.\n",
    " * We recommend you use same padding, but you're welcome to use any padding.\n",
    "* Add bias\n",
    "* Add a nonlinear activation to the convolution.\n",
    "* Apply Max Pooling using `pool_ksize` and `pool_strides`.\n",
    " * We recommend you use same padding, but you're welcome to use any padding.\n",
    "\n",
    "**Note:** You **can't** use [TensorFlow Layers](https://www.tensorflow.org/api_docs/python/tf/layers) or [TensorFlow Layers (contrib)](https://www.tensorflow.org/api_guides/python/contrib.layers) for **this** layer, but you can still use TensorFlow's [Neural Network](https://www.tensorflow.org/api_docs/python/tf/nn) package. You may still use the shortcut option for all the **other** layers."
   ]
  },
  {
   "cell_type": "code",
   "execution_count": 88,
   "metadata": {
    "collapsed": false,
    "deletable": true,
    "editable": true
   },
   "outputs": [
    {
     "name": "stdout",
     "output_type": "stream",
     "text": [
      "Tests Passed\n"
     ]
    }
   ],
   "source": [
    "def conv2d_maxpool(x_tensor, conv_num_outputs, conv_ksize, conv_strides, pool_ksize, pool_strides):\n",
    "    \"\"\"\n",
    "    Apply convolution then max pooling to x_tensor\n",
    "    :param x_tensor: TensorFlow Tensor\n",
    "    :param conv_num_outputs: Number of outputs for the convolutional layer\n",
    "    :param conv_ksize: kernal size 2-D Tuple for the convolutional layer\n",
    "    :param conv_strides: Stride 2-D Tuple for convolution\n",
    "    :param pool_ksize: kernal size 2-D Tuple for pool\n",
    "    :param pool_strides: Stride 2-D Tuple for pool\n",
    "    : return: A tensor that represents convolution and max pooling of x_tensor\n",
    "    \"\"\"\n",
    "    # TODO: Implement Function\n",
    "    \n",
    "    # Truncate normal\n",
    "    stddev = .01\n",
    "    padding = 'SAME'\n",
    "\n",
    "    depth = x_tensor.get_shape()[3].value\n",
    "    weight = tf.Variable(tf.truncated_normal([\n",
    "        conv_ksize[0], conv_ksize[1], depth, conv_num_outputs\n",
    "    ], stddev=stddev))\n",
    "    bias = tf.Variable(tf.truncated_normal([conv_num_outputs], stddev=stddev))\n",
    "    \n",
    "    # Apply convolution\n",
    "    conv_strides = [1, conv_strides[0], conv_strides[1], 1]\n",
    "    conv_layer = tf.nn.conv2d(x_tensor, weight, strides=conv_strides, padding=padding)\n",
    "    conv_layer = tf.nn.bias_add(conv_layer, bias)\n",
    "    conv_layer = tf.nn.relu(conv_layer)\n",
    "    \n",
    "    # Apply max pooling\n",
    "    pool_ksize = [1, pool_ksize[0], pool_ksize[1], 1]\n",
    "    pool_strides = [1, pool_strides[0], pool_strides[1], 1]\n",
    "    conv_layer = tf.nn.max_pool(\n",
    "        conv_layer, ksize=pool_ksize, strides=pool_strides, padding=padding\n",
    "    )\n",
    "    \n",
    "    return conv_layer \n",
    "\n",
    "\n",
    "\"\"\"\n",
    "DON'T MODIFY ANYTHING IN THIS CELL THAT IS BELOW THIS LINE\n",
    "\"\"\"\n",
    "tests.test_con_pool(conv2d_maxpool)"
   ]
  },
  {
   "cell_type": "markdown",
   "metadata": {
    "deletable": true,
    "editable": true
   },
   "source": [
    "### Flatten Layer\n",
    "Implement the `flatten` function to change the dimension of `x_tensor` from a 4-D tensor to a 2-D tensor.  The output should be the shape (*Batch Size*, *Flattened Image Size*). Shortcut option: you can use classes from the [TensorFlow Layers](https://www.tensorflow.org/api_docs/python/tf/layers) or [TensorFlow Layers (contrib)](https://www.tensorflow.org/api_guides/python/contrib.layers) packages for this layer. For more of a challenge, only use other TensorFlow packages."
   ]
  },
  {
   "cell_type": "code",
   "execution_count": 89,
   "metadata": {
    "collapsed": false,
    "deletable": true,
    "editable": true
   },
   "outputs": [
    {
     "name": "stdout",
     "output_type": "stream",
     "text": [
      "Tests Passed\n"
     ]
    }
   ],
   "source": [
    "def flatten(x_tensor):\n",
    "    \"\"\"\n",
    "    Flatten x_tensor to (Batch Size, Flattened Image Size)\n",
    "    : x_tensor: A tensor of size (Batch Size, ...), where ... are the image dimensions.\n",
    "    : return: A tensor of size (Batch Size, Flattened Image Size).\n",
    "    \"\"\"\n",
    "    # TODO: Implement Function\n",
    "    \n",
    "    shape = x_tensor.get_shape().as_list()\n",
    "    ret = tf.reshape(\n",
    "        x_tensor,\n",
    "        [-1, shape[1] * shape[2] * shape[3]]\n",
    "    )\n",
    "    \n",
    "    # ret = tf.contrib.layers.flatten(x_tensor)\n",
    "    return ret\n",
    "\n",
    "\n",
    "\"\"\"\n",
    "DON'T MODIFY ANYTHING IN THIS CELL THAT IS BELOW THIS LINE\n",
    "\"\"\"\n",
    "tests.test_flatten(flatten)"
   ]
  },
  {
   "cell_type": "markdown",
   "metadata": {
    "deletable": true,
    "editable": true
   },
   "source": [
    "### Fully-Connected Layer\n",
    "Implement the `fully_conn` function to apply a fully connected layer to `x_tensor` with the shape (*Batch Size*, *num_outputs*). Shortcut option: you can use classes from the [TensorFlow Layers](https://www.tensorflow.org/api_docs/python/tf/layers) or [TensorFlow Layers (contrib)](https://www.tensorflow.org/api_guides/python/contrib.layers) packages for this layer. For more of a challenge, only use other TensorFlow packages."
   ]
  },
  {
   "cell_type": "code",
   "execution_count": 90,
   "metadata": {
    "collapsed": false,
    "deletable": true,
    "editable": true
   },
   "outputs": [
    {
     "name": "stdout",
     "output_type": "stream",
     "text": [
      "Tests Passed\n"
     ]
    }
   ],
   "source": [
    "def fully_conn(x_tensor, num_outputs):\n",
    "    \"\"\"\n",
    "    Apply a fully connected layer to x_tensor using weight and bias\n",
    "    : x_tensor: A 2-D tensor where the first dimension is batch size.\n",
    "    : num_outputs: The number of output that the new tensor should be.\n",
    "    : return: A 2-D tensor where the second dimension is num_outputs.\n",
    "    \"\"\"\n",
    "    # TODO: Implement Function\n",
    "    ret = tf.contrib.layers.fully_connected(\n",
    "        inputs=x_tensor, num_outputs=num_outputs\n",
    "    )\n",
    "    return ret\n",
    "\n",
    "\n",
    "\"\"\"\n",
    "DON'T MODIFY ANYTHING IN THIS CELL THAT IS BELOW THIS LINE\n",
    "\"\"\"\n",
    "tests.test_fully_conn(fully_conn)"
   ]
  },
  {
   "cell_type": "markdown",
   "metadata": {
    "deletable": true,
    "editable": true
   },
   "source": [
    "### Output Layer\n",
    "Implement the `output` function to apply a fully connected layer to `x_tensor` with the shape (*Batch Size*, *num_outputs*). Shortcut option: you can use classes from the [TensorFlow Layers](https://www.tensorflow.org/api_docs/python/tf/layers) or [TensorFlow Layers (contrib)](https://www.tensorflow.org/api_guides/python/contrib.layers) packages for this layer. For more of a challenge, only use other TensorFlow packages.\n",
    "\n",
    "**Note:** Activation, softmax, or cross entropy should **not** be applied to this."
   ]
  },
  {
   "cell_type": "code",
   "execution_count": 91,
   "metadata": {
    "collapsed": false,
    "deletable": true,
    "editable": true
   },
   "outputs": [
    {
     "name": "stdout",
     "output_type": "stream",
     "text": [
      "Tests Passed\n"
     ]
    }
   ],
   "source": [
    "def output(x_tensor, num_outputs):\n",
    "    \"\"\"\n",
    "    Apply a output layer to x_tensor using weight and bias\n",
    "    : x_tensor: A 2-D tensor where the first dimension is batch size.\n",
    "    : num_outputs: The number of output that the new tensor should be.\n",
    "    : return: A 2-D tensor where the second dimension is num_outputs.\n",
    "    \"\"\"\n",
    "    # TODO: Implement Function\n",
    "    ret = tf.contrib.layers.fully_connected(\n",
    "        inputs=x_tensor, num_outputs=num_outputs, activation_fn=None\n",
    "    )\n",
    "    return ret\n",
    "\n",
    "\n",
    "\"\"\"\n",
    "DON'T MODIFY ANYTHING IN THIS CELL THAT IS BELOW THIS LINE\n",
    "\"\"\"\n",
    "tests.test_output(output)"
   ]
  },
  {
   "cell_type": "markdown",
   "metadata": {
    "deletable": true,
    "editable": true
   },
   "source": [
    "### Create Convolutional Model\n",
    "Implement the function `conv_net` to create a convolutional neural network model. The function takes in a batch of images, `x`, and outputs logits.  Use the layers you created above to create this model:\n",
    "\n",
    "* Apply 1, 2, or 3 Convolution and Max Pool layers\n",
    "* Apply a Flatten Layer\n",
    "* Apply 1, 2, or 3 Fully Connected Layers\n",
    "* Apply an Output Layer\n",
    "* Return the output\n",
    "* Apply [TensorFlow's Dropout](https://www.tensorflow.org/api_docs/python/tf/nn/dropout) to one or more layers in the model using `keep_prob`. "
   ]
  },
  {
   "cell_type": "code",
   "execution_count": 92,
   "metadata": {
    "collapsed": false,
    "deletable": true,
    "editable": true
   },
   "outputs": [
    {
     "name": "stdout",
     "output_type": "stream",
     "text": [
      "Neural Network Built!\n"
     ]
    }
   ],
   "source": [
    "def conv_net(x, keep_prob):\n",
    "    \"\"\"\n",
    "    Create a convolutional neural network model\n",
    "    : x: Placeholder tensor that holds image data.\n",
    "    : keep_prob: Placeholder tensor that hold dropout keep probability.\n",
    "    : return: Tensor that represents logits\n",
    "    \"\"\"\n",
    "    # TODO: Apply 1, 2, or 3 Convolution and Max Pool layers\n",
    "    #    Play around with different number of outputs, kernel size and stride\n",
    "    # Function Definition from Above:\n",
    "    #    conv2d_maxpool(x_tensor, conv_num_outputs, conv_ksize, conv_strides, pool_ksize, pool_strides)\n",
    "\n",
    "    output_depth = 30\n",
    "    layer1_num_outputs = output_depth\n",
    "    layer2_num_outputs = output_depth * 2\n",
    "    fully_layer1_num_outputs = output_depth * 2\n",
    "    fully_layer2_num_outputs = output_depth\n",
    "    final_num_outputs = 10\n",
    "    \n",
    "    conv_ksize = (3, 3)\n",
    "    conv_strides = (1, 1)\n",
    "    pool_ksize = (3, 3)\n",
    "    pool_strides = (1, 1)\n",
    "    \n",
    "    \n",
    "    conv_layer1 = conv2d_maxpool(\n",
    "        x,\n",
    "        layer1_num_outputs,\n",
    "        conv_ksize, conv_strides, pool_ksize, pool_strides\n",
    "    )\n",
    "    conv_layer2 = conv2d_maxpool(\n",
    "        conv_layer1,\n",
    "        layer2_num_outputs,\n",
    "        conv_ksize, conv_strides, pool_ksize, pool_strides\n",
    "    )\n",
    "    \n",
    "    conv_layer2 = tf.nn.dropout(conv_layer2, keep_prob)\n",
    "    \n",
    "    # TODO: Apply a Flatten Layer\n",
    "    # Function Definition from Above:\n",
    "    #   flatten(x_tensor)\n",
    "    \n",
    "    flat_layer = flatten(conv_layer2)\n",
    "    \n",
    "\n",
    "    # TODO: Apply 1, 2, or 3 Fully Connected Layers\n",
    "    #    Play around with different number of outputs\n",
    "    # Function Definition from Above:\n",
    "    #   fully_conn(x_tensor, num_outputs)\n",
    "    \n",
    "    fully_layer1 = fully_conn(flat_layer, fully_layer1_num_outputs)\n",
    "    fully_layer2 = fully_conn(fully_layer1, fully_layer2_num_outputs)\n",
    "    \n",
    "    # TODO: Apply an Output Layer\n",
    "    #    Set this to the number of classes\n",
    "    # Function Definition from Above:\n",
    "    #   output(x_tensor, num_outputs)\n",
    "    \n",
    "    out_layer = output(fully_layer2, final_num_outputs)\n",
    "    \n",
    "    # TODO: return output\n",
    "    return out_layer\n",
    "\n",
    "\n",
    "\"\"\"\n",
    "DON'T MODIFY ANYTHING IN THIS CELL THAT IS BELOW THIS LINE\n",
    "\"\"\"\n",
    "\n",
    "##############################\n",
    "## Build the Neural Network ##\n",
    "##############################\n",
    "\n",
    "# Remove previous weights, bias, inputs, etc..\n",
    "tf.reset_default_graph()\n",
    "\n",
    "# Inputs\n",
    "x = neural_net_image_input((32, 32, 3))\n",
    "y = neural_net_label_input(10)\n",
    "keep_prob = neural_net_keep_prob_input()\n",
    "\n",
    "# Model\n",
    "logits = conv_net(x, keep_prob)\n",
    "\n",
    "# Name logits Tensor, so that is can be loaded from disk after training\n",
    "logits = tf.identity(logits, name='logits')\n",
    "\n",
    "# Loss and Optimizer\n",
    "cost = tf.reduce_mean(tf.nn.softmax_cross_entropy_with_logits(logits=logits, labels=y))\n",
    "optimizer = tf.train.AdamOptimizer().minimize(cost)\n",
    "\n",
    "# Accuracy\n",
    "correct_pred = tf.equal(tf.argmax(logits, 1), tf.argmax(y, 1))\n",
    "accuracy = tf.reduce_mean(tf.cast(correct_pred, tf.float32), name='accuracy')\n",
    "\n",
    "tests.test_conv_net(conv_net)"
   ]
  },
  {
   "cell_type": "markdown",
   "metadata": {
    "deletable": true,
    "editable": true
   },
   "source": [
    "## Train the Neural Network\n",
    "### Single Optimization\n",
    "Implement the function `train_neural_network` to do a single optimization.  The optimization should use `optimizer` to optimize in `session` with a `feed_dict` of the following:\n",
    "* `x` for image input\n",
    "* `y` for labels\n",
    "* `keep_prob` for keep probability for dropout\n",
    "\n",
    "This function will be called for each batch, so `tf.global_variables_initializer()` has already been called.\n",
    "\n",
    "Note: Nothing needs to be returned. This function is only optimizing the neural network."
   ]
  },
  {
   "cell_type": "code",
   "execution_count": 93,
   "metadata": {
    "collapsed": false,
    "deletable": true,
    "editable": true
   },
   "outputs": [
    {
     "name": "stdout",
     "output_type": "stream",
     "text": [
      "Tests Passed\n"
     ]
    }
   ],
   "source": [
    "def train_neural_network(session, optimizer, keep_probability, feature_batch, label_batch):\n",
    "    \"\"\"\n",
    "    Optimize the session on a batch of images and labels\n",
    "    : session: Current TensorFlow session\n",
    "    : optimizer: TensorFlow optimizer function\n",
    "    : keep_probability: keep probability\n",
    "    : feature_batch: Batch of Numpy image data\n",
    "    : label_batch: Batch of Numpy label data\n",
    "    \"\"\"\n",
    "    # TODO: Implement Function\n",
    "    session.run(\n",
    "        optimizer,\n",
    "        feed_dict={\n",
    "            keep_prob: keep_probability,\n",
    "            x: feature_batch,\n",
    "            y: label_batch\n",
    "        }\n",
    "    )\n",
    "\n",
    "\n",
    "\"\"\"\n",
    "DON'T MODIFY ANYTHING IN THIS CELL THAT IS BELOW THIS LINE\n",
    "\"\"\"\n",
    "tests.test_train_nn(train_neural_network)"
   ]
  },
  {
   "cell_type": "markdown",
   "metadata": {
    "deletable": true,
    "editable": true
   },
   "source": [
    "### Show Stats\n",
    "Implement the function `print_stats` to print loss and validation accuracy.  Use the global variables `valid_features` and `valid_labels` to calculate validation accuracy.  Use a keep probability of `1.0` to calculate the loss and validation accuracy."
   ]
  },
  {
   "cell_type": "code",
   "execution_count": 94,
   "metadata": {
    "collapsed": false,
    "deletable": true,
    "editable": true
   },
   "outputs": [],
   "source": [
    "def print_stats(session, feature_batch, label_batch, cost, accuracy):\n",
    "    \"\"\"\n",
    "    Print information about loss and validation accuracy\n",
    "    : session: Current TensorFlow session\n",
    "    : feature_batch: Batch of Numpy image data\n",
    "    : label_batch: Batch of Numpy label data\n",
    "    : cost: TensorFlow cost function\n",
    "    : accuracy: TensorFlow accuracy function\n",
    "    \"\"\"\n",
    "    # TODO: Implement Function\n",
    "    loss = session.run(\n",
    "        cost,\n",
    "        feed_dict={\n",
    "            x: feature_batch,\n",
    "            y: label_batch,\n",
    "            keep_prob: 1.0,\n",
    "        }\n",
    "    )\n",
    "    \n",
    "    valid = session.run(\n",
    "        accuracy,\n",
    "        feed_dict={\n",
    "            x: valid_features,\n",
    "            y: valid_labels,\n",
    "            keep_prob: 1.0,\n",
    "        }\n",
    "    )\n",
    "    \n",
    "    print('Cost: {} | Accuracy: {}'.format(loss, valid))\n",
    "    "
   ]
  },
  {
   "cell_type": "markdown",
   "metadata": {
    "deletable": true,
    "editable": true
   },
   "source": [
    "### Hyperparameters\n",
    "Tune the following parameters:\n",
    "* Set `epochs` to the number of iterations until the network stops learning or start overfitting\n",
    "* Set `batch_size` to the highest number that your machine has memory for.  Most people set them to common sizes of memory:\n",
    " * 64\n",
    " * 128\n",
    " * 256\n",
    " * ...\n",
    "* Set `keep_probability` to the probability of keeping a node using dropout"
   ]
  },
  {
   "cell_type": "code",
   "execution_count": 99,
   "metadata": {
    "collapsed": true,
    "deletable": true,
    "editable": true
   },
   "outputs": [],
   "source": [
    "# TODO: Tune Parameters\n",
    "epochs = 25\n",
    "batch_size = 128\n",
    "keep_probability = .55"
   ]
  },
  {
   "cell_type": "markdown",
   "metadata": {
    "deletable": true,
    "editable": true
   },
   "source": [
    "### Train on a Single CIFAR-10 Batch\n",
    "Instead of training the neural network on all the CIFAR-10 batches of data, let's use a single batch. This should save time while you iterate on the model to get a better accuracy.  Once the final validation accuracy is 50% or greater, run the model on all the data in the next section."
   ]
  },
  {
   "cell_type": "code",
   "execution_count": 100,
   "metadata": {
    "collapsed": false,
    "deletable": true,
    "editable": true
   },
   "outputs": [
    {
     "name": "stdout",
     "output_type": "stream",
     "text": [
      "Checking the Training on a Single Batch...\n",
      "Epoch  1, CIFAR-10 Batch 1:  Cost: 2.151740550994873 | Accuracy: 0.2937999963760376\n",
      "Epoch  2, CIFAR-10 Batch 1:  Cost: 1.965558409690857 | Accuracy: 0.3653999865055084\n",
      "Epoch  3, CIFAR-10 Batch 1:  Cost: 1.7747808694839478 | Accuracy: 0.3973999619483948\n",
      "Epoch  4, CIFAR-10 Batch 1:  Cost: 1.67885160446167 | Accuracy: 0.42739996314048767\n",
      "Epoch  5, CIFAR-10 Batch 1:  Cost: 1.5818753242492676 | Accuracy: 0.4479999840259552\n",
      "Epoch  6, CIFAR-10 Batch 1:  Cost: 1.5011506080627441 | Accuracy: 0.4577999711036682\n",
      "Epoch  7, CIFAR-10 Batch 1:  Cost: 1.4451154470443726 | Accuracy: 0.4665999710559845\n",
      "Epoch  8, CIFAR-10 Batch 1:  Cost: 1.3662995100021362 | Accuracy: 0.47679999470710754\n",
      "Epoch  9, CIFAR-10 Batch 1:  Cost: 1.298850178718567 | Accuracy: 0.4843999445438385\n",
      "Epoch 10, CIFAR-10 Batch 1:  Cost: 1.2571017742156982 | Accuracy: 0.4917999505996704\n",
      "Epoch 11, CIFAR-10 Batch 1:  Cost: 1.1952732801437378 | Accuracy: 0.4885999262332916\n",
      "Epoch 12, CIFAR-10 Batch 1:  Cost: 1.1605850458145142 | Accuracy: 0.4909999966621399\n",
      "Epoch 13, CIFAR-10 Batch 1:  Cost: 1.0757136344909668 | Accuracy: 0.49779999256134033\n",
      "Epoch 14, CIFAR-10 Batch 1:  Cost: 0.9991610646247864 | Accuracy: 0.5013999342918396\n",
      "Epoch 15, CIFAR-10 Batch 1:  Cost: 0.9298194646835327 | Accuracy: 0.5161999464035034\n",
      "Epoch 16, CIFAR-10 Batch 1:  Cost: 0.9041262865066528 | Accuracy: 0.5059999227523804\n",
      "Epoch 17, CIFAR-10 Batch 1:  Cost: 0.8624123334884644 | Accuracy: 0.51419997215271\n",
      "Epoch 18, CIFAR-10 Batch 1:  Cost: 0.8521771430969238 | Accuracy: 0.524399995803833\n",
      "Epoch 19, CIFAR-10 Batch 1:  Cost: 0.756760835647583 | Accuracy: 0.5273999571800232\n",
      "Epoch 20, CIFAR-10 Batch 1:  Cost: 0.7375307083129883 | Accuracy: 0.5339999794960022\n",
      "Epoch 21, CIFAR-10 Batch 1:  Cost: 0.7082359194755554 | Accuracy: 0.5275999307632446\n",
      "Epoch 22, CIFAR-10 Batch 1:  Cost: 0.7577388286590576 | Accuracy: 0.5259999632835388\n",
      "Epoch 23, CIFAR-10 Batch 1:  Cost: 0.7178274393081665 | Accuracy: 0.5211999416351318\n",
      "Epoch 24, CIFAR-10 Batch 1:  Cost: 0.6738904714584351 | Accuracy: 0.5257999300956726\n",
      "Epoch 25, CIFAR-10 Batch 1:  Cost: 0.6041522026062012 | Accuracy: 0.5351999402046204\n"
     ]
    }
   ],
   "source": [
    "\"\"\"\n",
    "DON'T MODIFY ANYTHING IN THIS CELL\n",
    "\"\"\"\n",
    "print('Checking the Training on a Single Batch...')\n",
    "with tf.Session() as sess:\n",
    "    # Initializing the variables\n",
    "    sess.run(tf.global_variables_initializer())\n",
    "    \n",
    "    # Training cycle\n",
    "    for epoch in range(epochs):\n",
    "        batch_i = 1\n",
    "        for batch_features, batch_labels in helper.load_preprocess_training_batch(batch_i, batch_size):\n",
    "            train_neural_network(sess, optimizer, keep_probability, batch_features, batch_labels)\n",
    "        print('Epoch {:>2}, CIFAR-10 Batch {}:  '.format(epoch + 1, batch_i), end='')\n",
    "        print_stats(sess, batch_features, batch_labels, cost, accuracy)"
   ]
  },
  {
   "cell_type": "markdown",
   "metadata": {
    "deletable": true,
    "editable": true
   },
   "source": [
    "### Fully Train the Model\n",
    "Now that you got a good accuracy with a single CIFAR-10 batch, try it with all five batches."
   ]
  },
  {
   "cell_type": "code",
   "execution_count": 101,
   "metadata": {
    "collapsed": false,
    "deletable": true,
    "editable": true
   },
   "outputs": [
    {
     "name": "stdout",
     "output_type": "stream",
     "text": [
      "Training...\n",
      "Epoch  1, CIFAR-10 Batch 1:  Cost: 2.2225611209869385 | Accuracy: 0.26099997758865356\n",
      "Epoch  1, CIFAR-10 Batch 2:  Cost: 1.7067946195602417 | Accuracy: 0.3630000054836273\n",
      "Epoch  1, CIFAR-10 Batch 3:  Cost: 1.7089157104492188 | Accuracy: 0.373199999332428\n",
      "Epoch  1, CIFAR-10 Batch 4:  Cost: 1.558043122291565 | Accuracy: 0.3999999761581421\n",
      "Epoch  1, CIFAR-10 Batch 5:  Cost: 1.6715059280395508 | Accuracy: 0.44739997386932373\n",
      "Epoch  2, CIFAR-10 Batch 1:  Cost: 1.8529053926467896 | Accuracy: 0.4559999704360962\n",
      "Epoch  2, CIFAR-10 Batch 2:  Cost: 1.4045600891113281 | Accuracy: 0.46219995617866516\n",
      "Epoch  2, CIFAR-10 Batch 3:  Cost: 1.2833153009414673 | Accuracy: 0.4731999635696411\n",
      "Epoch  2, CIFAR-10 Batch 4:  Cost: 1.319918155670166 | Accuracy: 0.4957999587059021\n",
      "Epoch  2, CIFAR-10 Batch 5:  Cost: 1.3851431608200073 | Accuracy: 0.519599974155426\n",
      "Epoch  3, CIFAR-10 Batch 1:  Cost: 1.6792705059051514 | Accuracy: 0.5241999626159668\n",
      "Epoch  3, CIFAR-10 Batch 2:  Cost: 1.2612624168395996 | Accuracy: 0.504599928855896\n",
      "Epoch  3, CIFAR-10 Batch 3:  Cost: 1.046370506286621 | Accuracy: 0.5225999355316162\n",
      "Epoch  3, CIFAR-10 Batch 4:  Cost: 1.1484465599060059 | Accuracy: 0.5401999950408936\n",
      "Epoch  3, CIFAR-10 Batch 5:  Cost: 1.2426621913909912 | Accuracy: 0.5557999610900879\n",
      "Epoch  4, CIFAR-10 Batch 1:  Cost: 1.539843201637268 | Accuracy: 0.5521999001502991\n",
      "Epoch  4, CIFAR-10 Batch 2:  Cost: 1.086471438407898 | Accuracy: 0.5535999536514282\n",
      "Epoch  4, CIFAR-10 Batch 3:  Cost: 0.8645161390304565 | Accuracy: 0.5725999474525452\n",
      "Epoch  4, CIFAR-10 Batch 4:  Cost: 1.0271720886230469 | Accuracy: 0.5845999717712402\n",
      "Epoch  4, CIFAR-10 Batch 5:  Cost: 1.125915288925171 | Accuracy: 0.5841999053955078\n",
      "Epoch  5, CIFAR-10 Batch 1:  Cost: 1.3044252395629883 | Accuracy: 0.5975999236106873\n",
      "Epoch  5, CIFAR-10 Batch 2:  Cost: 0.9957317113876343 | Accuracy: 0.5865999460220337\n",
      "Epoch  5, CIFAR-10 Batch 3:  Cost: 0.7602040767669678 | Accuracy: 0.5879999399185181\n",
      "Epoch  5, CIFAR-10 Batch 4:  Cost: 0.9182144403457642 | Accuracy: 0.6145999431610107\n",
      "Epoch  5, CIFAR-10 Batch 5:  Cost: 1.013695478439331 | Accuracy: 0.6103999018669128\n",
      "Epoch  6, CIFAR-10 Batch 1:  Cost: 1.173795461654663 | Accuracy: 0.6167999505996704\n",
      "Epoch  6, CIFAR-10 Batch 2:  Cost: 0.9129327535629272 | Accuracy: 0.6091999411582947\n",
      "Epoch  6, CIFAR-10 Batch 3:  Cost: 0.6704785227775574 | Accuracy: 0.6179998517036438\n",
      "Epoch  6, CIFAR-10 Batch 4:  Cost: 0.8094066381454468 | Accuracy: 0.6289999485015869\n",
      "Epoch  6, CIFAR-10 Batch 5:  Cost: 0.8963221907615662 | Accuracy: 0.6295998692512512\n",
      "Epoch  7, CIFAR-10 Batch 1:  Cost: 1.058692455291748 | Accuracy: 0.6223999261856079\n",
      "Epoch  7, CIFAR-10 Batch 2:  Cost: 0.8608459234237671 | Accuracy: 0.61819988489151\n",
      "Epoch  7, CIFAR-10 Batch 3:  Cost: 0.642467200756073 | Accuracy: 0.6055999994277954\n",
      "Epoch  7, CIFAR-10 Batch 4:  Cost: 0.7592344880104065 | Accuracy: 0.634399950504303\n",
      "Epoch  7, CIFAR-10 Batch 5:  Cost: 0.8402331471443176 | Accuracy: 0.6419998407363892\n",
      "Epoch  8, CIFAR-10 Batch 1:  Cost: 1.017783522605896 | Accuracy: 0.6329998970031738\n",
      "Epoch  8, CIFAR-10 Batch 2:  Cost: 0.8203202486038208 | Accuracy: 0.6355998516082764\n",
      "Epoch  8, CIFAR-10 Batch 3:  Cost: 0.5786138772964478 | Accuracy: 0.6305999159812927\n",
      "Epoch  8, CIFAR-10 Batch 4:  Cost: 0.7040703296661377 | Accuracy: 0.637199878692627\n",
      "Epoch  8, CIFAR-10 Batch 5:  Cost: 0.7846665382385254 | Accuracy: 0.6351999044418335\n",
      "Epoch  9, CIFAR-10 Batch 1:  Cost: 0.9374654293060303 | Accuracy: 0.6425999402999878\n",
      "Epoch  9, CIFAR-10 Batch 2:  Cost: 0.7702798843383789 | Accuracy: 0.6523998379707336\n",
      "Epoch  9, CIFAR-10 Batch 3:  Cost: 0.5895612835884094 | Accuracy: 0.6337998509407043\n",
      "Epoch  9, CIFAR-10 Batch 4:  Cost: 0.6148843765258789 | Accuracy: 0.6457998752593994\n",
      "Epoch  9, CIFAR-10 Batch 5:  Cost: 0.6713351011276245 | Accuracy: 0.652199923992157\n",
      "Epoch 10, CIFAR-10 Batch 1:  Cost: 0.8643476366996765 | Accuracy: 0.6557998061180115\n",
      "Epoch 10, CIFAR-10 Batch 2:  Cost: 0.6913243532180786 | Accuracy: 0.6471998691558838\n",
      "Epoch 10, CIFAR-10 Batch 3:  Cost: 0.556510329246521 | Accuracy: 0.6423999667167664\n",
      "Epoch 10, CIFAR-10 Batch 4:  Cost: 0.5609237551689148 | Accuracy: 0.6549999117851257\n",
      "Epoch 10, CIFAR-10 Batch 5:  Cost: 0.6236990690231323 | Accuracy: 0.6569998860359192\n",
      "Epoch 11, CIFAR-10 Batch 1:  Cost: 0.8264197111129761 | Accuracy: 0.6563998460769653\n",
      "Epoch 11, CIFAR-10 Batch 2:  Cost: 0.6827510595321655 | Accuracy: 0.663399875164032\n",
      "Epoch 11, CIFAR-10 Batch 3:  Cost: 0.5296416878700256 | Accuracy: 0.6561998724937439\n",
      "Epoch 11, CIFAR-10 Batch 4:  Cost: 0.503191351890564 | Accuracy: 0.6515998840332031\n",
      "Epoch 11, CIFAR-10 Batch 5:  Cost: 0.5694964528083801 | Accuracy: 0.6571998596191406\n",
      "Epoch 12, CIFAR-10 Batch 1:  Cost: 0.7647375464439392 | Accuracy: 0.6543998718261719\n",
      "Epoch 12, CIFAR-10 Batch 2:  Cost: 0.6067305207252502 | Accuracy: 0.6635998487472534\n",
      "Epoch 12, CIFAR-10 Batch 3:  Cost: 0.49551811814308167 | Accuracy: 0.6507998704910278\n",
      "Epoch 12, CIFAR-10 Batch 4:  Cost: 0.44585829973220825 | Accuracy: 0.6625998616218567\n",
      "Epoch 12, CIFAR-10 Batch 5:  Cost: 0.5199480652809143 | Accuracy: 0.6673998832702637\n",
      "Epoch 13, CIFAR-10 Batch 1:  Cost: 0.7077052593231201 | Accuracy: 0.6649998426437378\n",
      "Epoch 13, CIFAR-10 Batch 2:  Cost: 0.56520676612854 | Accuracy: 0.6581998467445374\n",
      "Epoch 13, CIFAR-10 Batch 3:  Cost: 0.43882060050964355 | Accuracy: 0.6625998616218567\n",
      "Epoch 13, CIFAR-10 Batch 4:  Cost: 0.4234716296195984 | Accuracy: 0.6617998480796814\n",
      "Epoch 13, CIFAR-10 Batch 5:  Cost: 0.5402208566665649 | Accuracy: 0.6631999015808105\n",
      "Epoch 14, CIFAR-10 Batch 1:  Cost: 0.6930525302886963 | Accuracy: 0.6597999334335327\n",
      "Epoch 14, CIFAR-10 Batch 2:  Cost: 0.5742221474647522 | Accuracy: 0.6647998690605164\n",
      "Epoch 14, CIFAR-10 Batch 3:  Cost: 0.45131194591522217 | Accuracy: 0.6601998805999756\n",
      "Epoch 14, CIFAR-10 Batch 4:  Cost: 0.39827316999435425 | Accuracy: 0.6619998216629028\n",
      "Epoch 14, CIFAR-10 Batch 5:  Cost: 0.4843980371952057 | Accuracy: 0.6727998852729797\n",
      "Epoch 15, CIFAR-10 Batch 1:  Cost: 0.658355176448822 | Accuracy: 0.668799877166748\n",
      "Epoch 15, CIFAR-10 Batch 2:  Cost: 0.5254512429237366 | Accuracy: 0.6677998900413513\n",
      "Epoch 15, CIFAR-10 Batch 3:  Cost: 0.4164202809333801 | Accuracy: 0.6673998832702637\n",
      "Epoch 15, CIFAR-10 Batch 4:  Cost: 0.3862616717815399 | Accuracy: 0.6693998575210571\n",
      "Epoch 15, CIFAR-10 Batch 5:  Cost: 0.4355311989784241 | Accuracy: 0.6759998798370361\n",
      "Epoch 16, CIFAR-10 Batch 1:  Cost: 0.6332550048828125 | Accuracy: 0.6641998887062073\n",
      "Epoch 16, CIFAR-10 Batch 2:  Cost: 0.548743486404419 | Accuracy: 0.6695999503135681\n",
      "Epoch 16, CIFAR-10 Batch 3:  Cost: 0.4020064175128937 | Accuracy: 0.6733999252319336\n",
      "Epoch 16, CIFAR-10 Batch 4:  Cost: 0.36918893456459045 | Accuracy: 0.6633999347686768\n",
      "Epoch 16, CIFAR-10 Batch 5:  Cost: 0.45326825976371765 | Accuracy: 0.6713998317718506\n",
      "Epoch 17, CIFAR-10 Batch 1:  Cost: 0.6048244833946228 | Accuracy: 0.6659998893737793\n",
      "Epoch 17, CIFAR-10 Batch 2:  Cost: 0.5182090401649475 | Accuracy: 0.6679998636245728\n",
      "Epoch 17, CIFAR-10 Batch 3:  Cost: 0.3706902265548706 | Accuracy: 0.6761999130249023\n",
      "Epoch 17, CIFAR-10 Batch 4:  Cost: 0.36615464091300964 | Accuracy: 0.6661998629570007\n",
      "Epoch 17, CIFAR-10 Batch 5:  Cost: 0.4028225243091583 | Accuracy: 0.6749998927116394\n",
      "Epoch 18, CIFAR-10 Batch 1:  Cost: 0.5944002866744995 | Accuracy: 0.6665999293327332\n",
      "Epoch 18, CIFAR-10 Batch 2:  Cost: 0.48271968960762024 | Accuracy: 0.6573998928070068\n",
      "Epoch 18, CIFAR-10 Batch 3:  Cost: 0.3500537872314453 | Accuracy: 0.6747998595237732\n",
      "Epoch 18, CIFAR-10 Batch 4:  Cost: 0.37306755781173706 | Accuracy: 0.6761999130249023\n",
      "Epoch 18, CIFAR-10 Batch 5:  Cost: 0.39119666814804077 | Accuracy: 0.6751998662948608\n",
      "Epoch 19, CIFAR-10 Batch 1:  Cost: 0.5090914368629456 | Accuracy: 0.6805998682975769\n",
      "Epoch 19, CIFAR-10 Batch 2:  Cost: 0.43915966153144836 | Accuracy: 0.672999918460846\n",
      "Epoch 19, CIFAR-10 Batch 3:  Cost: 0.33004483580589294 | Accuracy: 0.6821998953819275\n",
      "Epoch 19, CIFAR-10 Batch 4:  Cost: 0.3690946102142334 | Accuracy: 0.6771998405456543\n",
      "Epoch 19, CIFAR-10 Batch 5:  Cost: 0.3843379318714142 | Accuracy: 0.675399899482727\n",
      "Epoch 20, CIFAR-10 Batch 1:  Cost: 0.49082839488983154 | Accuracy: 0.6883999109268188\n",
      "Epoch 20, CIFAR-10 Batch 2:  Cost: 0.3982393145561218 | Accuracy: 0.6701998710632324\n",
      "Epoch 20, CIFAR-10 Batch 3:  Cost: 0.30944299697875977 | Accuracy: 0.6823998689651489\n",
      "Epoch 20, CIFAR-10 Batch 4:  Cost: 0.387878954410553 | Accuracy: 0.6809998750686646\n",
      "Epoch 20, CIFAR-10 Batch 5:  Cost: 0.35085389018058777 | Accuracy: 0.6825999021530151\n",
      "Epoch 21, CIFAR-10 Batch 1:  Cost: 0.4634717106819153 | Accuracy: 0.6851998567581177\n",
      "Epoch 21, CIFAR-10 Batch 2:  Cost: 0.40485942363739014 | Accuracy: 0.6713998913764954\n",
      "Epoch 21, CIFAR-10 Batch 3:  Cost: 0.2890864908695221 | Accuracy: 0.6857998967170715\n",
      "Epoch 21, CIFAR-10 Batch 4:  Cost: 0.38486814498901367 | Accuracy: 0.675399899482727\n",
      "Epoch 21, CIFAR-10 Batch 5:  Cost: 0.35998886823654175 | Accuracy: 0.6745998859405518\n",
      "Epoch 22, CIFAR-10 Batch 1:  Cost: 0.45552143454551697 | Accuracy: 0.6873998641967773\n",
      "Epoch 22, CIFAR-10 Batch 2:  Cost: 0.3577360212802887 | Accuracy: 0.6789998412132263\n",
      "Epoch 22, CIFAR-10 Batch 3:  Cost: 0.2791692614555359 | Accuracy: 0.6901998519897461\n",
      "Epoch 22, CIFAR-10 Batch 4:  Cost: 0.36633896827697754 | Accuracy: 0.6759998798370361\n",
      "Epoch 22, CIFAR-10 Batch 5:  Cost: 0.3175560534000397 | Accuracy: 0.6719998717308044\n",
      "Epoch 23, CIFAR-10 Batch 1:  Cost: 0.42736920714378357 | Accuracy: 0.6845998764038086\n",
      "Epoch 23, CIFAR-10 Batch 2:  Cost: 0.3368585705757141 | Accuracy: 0.669999897480011\n",
      "Epoch 23, CIFAR-10 Batch 3:  Cost: 0.29333561658859253 | Accuracy: 0.6865999102592468\n",
      "Epoch 23, CIFAR-10 Batch 4:  Cost: 0.3647046983242035 | Accuracy: 0.668799877166748\n",
      "Epoch 23, CIFAR-10 Batch 5:  Cost: 0.32246217131614685 | Accuracy: 0.6791998744010925\n",
      "Epoch 24, CIFAR-10 Batch 1:  Cost: 0.4238016605377197 | Accuracy: 0.6887999176979065\n",
      "Epoch 24, CIFAR-10 Batch 2:  Cost: 0.3011240065097809 | Accuracy: 0.6825999021530151\n",
      "Epoch 24, CIFAR-10 Batch 3:  Cost: 0.27446550130844116 | Accuracy: 0.6851998567581177\n",
      "Epoch 24, CIFAR-10 Batch 4:  Cost: 0.31659170985221863 | Accuracy: 0.6777999401092529\n",
      "Epoch 24, CIFAR-10 Batch 5:  Cost: 0.2808576226234436 | Accuracy: 0.6815998554229736\n",
      "Epoch 25, CIFAR-10 Batch 1:  Cost: 0.4126545190811157 | Accuracy: 0.6921998262405396\n",
      "Epoch 25, CIFAR-10 Batch 2:  Cost: 0.33566099405288696 | Accuracy: 0.6767998337745667\n",
      "Epoch 25, CIFAR-10 Batch 3:  Cost: 0.25338390469551086 | Accuracy: 0.6889998912811279\n",
      "Epoch 25, CIFAR-10 Batch 4:  Cost: 0.34578630328178406 | Accuracy: 0.6663999557495117\n",
      "Epoch 25, CIFAR-10 Batch 5:  Cost: 0.30703005194664 | Accuracy: 0.6721998453140259\n"
     ]
    }
   ],
   "source": [
    "\"\"\"\n",
    "DON'T MODIFY ANYTHING IN THIS CELL\n",
    "\"\"\"\n",
    "save_model_path = './image_classification'\n",
    "\n",
    "print('Training...')\n",
    "with tf.Session() as sess:\n",
    "    # Initializing the variables\n",
    "    sess.run(tf.global_variables_initializer())\n",
    "    \n",
    "    # Training cycle\n",
    "    for epoch in range(epochs):\n",
    "        # Loop over all batches\n",
    "        n_batches = 5\n",
    "        for batch_i in range(1, n_batches + 1):\n",
    "            for batch_features, batch_labels in helper.load_preprocess_training_batch(batch_i, batch_size):\n",
    "                train_neural_network(sess, optimizer, keep_probability, batch_features, batch_labels)\n",
    "            print('Epoch {:>2}, CIFAR-10 Batch {}:  '.format(epoch + 1, batch_i), end='')\n",
    "            print_stats(sess, batch_features, batch_labels, cost, accuracy)\n",
    "            \n",
    "    # Save Model\n",
    "    saver = tf.train.Saver()\n",
    "    save_path = saver.save(sess, save_model_path)"
   ]
  },
  {
   "cell_type": "markdown",
   "metadata": {
    "deletable": true,
    "editable": true
   },
   "source": [
    "# Checkpoint\n",
    "The model has been saved to disk.\n",
    "## Test Model\n",
    "Test your model against the test dataset.  This will be your final accuracy. You should have an accuracy greater than 50%. If you don't, keep tweaking the model architecture and parameters."
   ]
  },
  {
   "cell_type": "code",
   "execution_count": 102,
   "metadata": {
    "collapsed": false,
    "deletable": true,
    "editable": true
   },
   "outputs": [
    {
     "name": "stdout",
     "output_type": "stream",
     "text": [
      "Testing Accuracy: 0.6541732594936709\n",
      "\n"
     ]
    },
    {
     "data": {
      "image/png": "[encoded data removed]",
      "text/plain": [
       "<matplotlib.figure.Figure at 0x7f110e1b5e10>"
      ]
     },
     "metadata": {
      "image/png": {
       "height": 319,
       "width": 355
      }
     },
     "output_type": "display_data"
    }
   ],
   "source": [
    "\"\"\"\n",
    "DON'T MODIFY ANYTHING IN THIS CELL\n",
    "\"\"\"\n",
    "%matplotlib inline\n",
    "%config InlineBackend.figure_format = 'retina'\n",
    "\n",
    "import tensorflow as tf\n",
    "import pickle\n",
    "import helper\n",
    "import random\n",
    "\n",
    "# Set batch size if not already set\n",
    "try:\n",
    "    if batch_size:\n",
    "        pass\n",
    "except NameError:\n",
    "    batch_size = 64\n",
    "\n",
    "save_model_path = './image_classification'\n",
    "n_samples = 4\n",
    "top_n_predictions = 3\n",
    "\n",
    "def test_model():\n",
    "    \"\"\"\n",
    "    Test the saved model against the test dataset\n",
    "    \"\"\"\n",
    "\n",
    "    test_features, test_labels = pickle.load(open('preprocess_training.p', mode='rb'))\n",
    "    loaded_graph = tf.Graph()\n",
    "\n",
    "    with tf.Session(graph=loaded_graph) as sess:\n",
    "        # Load model\n",
    "        loader = tf.train.import_meta_graph(save_model_path + '.meta')\n",
    "        loader.restore(sess, save_model_path)\n",
    "\n",
    "        # Get Tensors from loaded model\n",
    "        loaded_x = loaded_graph.get_tensor_by_name('x:0')\n",
    "        loaded_y = loaded_graph.get_tensor_by_name('y:0')\n",
    "        loaded_keep_prob = loaded_graph.get_tensor_by_name('keep_prob:0')\n",
    "        loaded_logits = loaded_graph.get_tensor_by_name('logits:0')\n",
    "        loaded_acc = loaded_graph.get_tensor_by_name('accuracy:0')\n",
    "        \n",
    "        # Get accuracy in batches for memory limitations\n",
    "        test_batch_acc_total = 0\n",
    "        test_batch_count = 0\n",
    "        \n",
    "        for train_feature_batch, train_label_batch in helper.batch_features_labels(test_features, test_labels, batch_size):\n",
    "            test_batch_acc_total += sess.run(\n",
    "                loaded_acc,\n",
    "                feed_dict={loaded_x: train_feature_batch, loaded_y: train_label_batch, loaded_keep_prob: 1.0})\n",
    "            test_batch_count += 1\n",
    "\n",
    "        print('Testing Accuracy: {}\\n'.format(test_batch_acc_total/test_batch_count))\n",
    "\n",
    "        # Print Random Samples\n",
    "        random_test_features, random_test_labels = tuple(zip(*random.sample(list(zip(test_features, test_labels)), n_samples)))\n",
    "        random_test_predictions = sess.run(\n",
    "            tf.nn.top_k(tf.nn.softmax(loaded_logits), top_n_predictions),\n",
    "            feed_dict={loaded_x: random_test_features, loaded_y: random_test_labels, loaded_keep_prob: 1.0})\n",
    "        helper.display_image_predictions(random_test_features, random_test_labels, random_test_predictions)\n",
    "\n",
    "\n",
    "test_model()"
   ]
  },
  {
   "cell_type": "markdown",
   "metadata": {
    "deletable": true,
    "editable": true
   },
   "source": [
    "## Why 50-70% Accuracy?\n",
    "You might be wondering why you can't get an accuracy any higher. First things first, 50% isn't bad for a simple CNN.  Pure guessing would get you 10% accuracy. However, you might notice people are getting scores [well above 70%](http://rodrigob.github.io/are_we_there_yet/build/classification_datasets_results.html#43494641522d3130).  That's because we haven't taught you all there is to know about neural networks. We still need to cover a few more techniques.\n",
    "## Submitting This Project\n",
    "When submitting this project, make sure to run all the cells before saving the notebook.  Save the notebook file as \"dlnd_image_classification.ipynb\" and save it as a HTML file under \"File\" -> \"Download as\".  Include the \"helper.py\" and \"problem_unittests.py\" files in your submission."
   ]
  },
  {
   "cell_type": "code",
   "execution_count": null,
   "metadata": {
    "collapsed": true
   },
   "outputs": [],
   "source": []
  }
 ],
 "metadata": {
  "kernelspec": {
   "display_name": "Python 3",
   "language": "python",
   "name": "python3"
  },
  "language_info": {
   "codemirror_mode": {
    "name": "ipython",
    "version": 3
   },
   "file_extension": ".py",
   "mimetype": "text/x-python",
   "name": "python",
   "nbconvert_exporter": "python",
   "pygments_lexer": "ipython3",
   "version": "3.5.3"
  }
 },
 "nbformat": 4,
 "nbformat_minor": 0
}
